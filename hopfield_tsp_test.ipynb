{
 "cells": [
  {
   "cell_type": "code",
   "execution_count": 1,
   "id": "f0d8c523",
   "metadata": {},
   "outputs": [],
   "source": [
    "import numpy as np\n",
    "import networkx as nx\n",
    "import random\n",
    "import matplotlib.pyplot as plt\n",
    "import math\n",
    "from scipy.linalg import circulant\n",
    "from models import HopfieldNetwork, TSP, CompleteGraph"
   ]
  },
  {
   "cell_type": "markdown",
   "id": "cca67882",
   "metadata": {},
   "source": [
    "## Steps to reproduce hopfield tsp paper\n",
    "1. Encode TSP into Hopfield Network to get energy function\n",
    "2. Apply Simulated Annealing to check for correctness of the implementation"
   ]
  },
  {
   "cell_type": "code",
   "execution_count": 2,
   "id": "5b382e05",
   "metadata": {},
   "outputs": [
    {
     "data": {
      "image/png": "[encoded data removed]",
      "text/plain": [
       "<Figure size 432x288 with 1 Axes>"
      ]
     },
     "metadata": {},
     "output_type": "display_data"
    }
   ],
   "source": [
    "# Creating an examplease graph\n",
    "G = CompleteGraph(4)\n",
    "G.draw_graph()"
   ]
  },
  {
   "cell_type": "code",
   "execution_count": 3,
   "id": "32f98d73",
   "metadata": {},
   "outputs": [],
   "source": [
    "#Creating a TSP instance and encode it into a Hopfield Network\n",
    "graph = G.get_graph()\n",
    "tsp = TSP(graph)\n",
    "hopfield = HopfieldNetwork(tsp.T, tsp.I, tsp.offset)"
   ]
  },
  {
   "cell_type": "code",
   "execution_count": 4,
   "id": "43bbd321",
   "metadata": {},
   "outputs": [
    {
     "name": "stdout",
     "output_type": "stream",
     "text": [
      "Energy of optimal solution: -291.0\n",
      "[0. 2. 1. 3.]\n",
      "Actual best tour length (HEURISTIC!!): 29\n"
     ]
    }
   ],
   "source": [
    "#Get the energy using the Christofides algorithm to compare with our results\n",
    "solution = tsp.get_encoding(nx.approximation.christofides(graph)[:-1])\n",
    "res = hopfield.compute_energy(solution, debug=False)\n",
    "print(\"Energy of optimal solution:\", res)\n",
    "print(tsp.interpret(solution))\n",
    "print(\"Actual best tour length (HEURISTIC!!):\",tsp.get_cost(solution))"
   ]
  },
  {
   "cell_type": "markdown",
   "id": "b808ca18",
   "metadata": {},
   "source": [
    "### Solving it with simulated annealing"
   ]
  },
  {
   "cell_type": "code",
   "execution_count": 5,
   "id": "426b6a5c",
   "metadata": {},
   "outputs": [],
   "source": [
    "from scipy.optimize import dual_annealing"
   ]
  },
  {
   "cell_type": "code",
   "execution_count": 6,
   "id": "c78c824b",
   "metadata": {},
   "outputs": [
    {
     "name": "stdout",
     "output_type": "stream",
     "text": [
      "Repeat: 1\n",
      "Repeat: 2\n",
      "Repeat: 3\n",
      "Repeat: 4\n",
      "Repeat: 5\n"
     ]
    }
   ],
   "source": [
    "l_bound = [0] * tsp.n**2\n",
    "u_bound = [1] * tsp.n**2\n",
    "REPEATS = 5\n",
    "print(\"Repeat:\", 1)\n",
    "solution = dual_annealing(hopfield.compute_energy, bounds=list(zip(l_bound, u_bound)), maxiter=100)\n",
    "for i in range(1, REPEATS):\n",
    "    print(\"Repeat:\", i+1)\n",
    "    tmp = dual_annealing(hopfield.compute_energy, bounds=list(zip(l_bound, u_bound)), maxiter=100)\n",
    "    if tmp.fun < solution.fun:\n",
    "        solution = tmp"
   ]
  },
  {
   "cell_type": "code",
   "execution_count": 7,
   "id": "9967fef7",
   "metadata": {},
   "outputs": [
    {
     "name": "stdout",
     "output_type": "stream",
     "text": [
      "[3. 0. 2. 1.]\n",
      " message: ['Maximum number of iteration reached']\n",
      " success: True\n",
      "  status: 0\n",
      "     fun: -294.61249999999995\n",
      "       x: [ 0.000e+00  1.000e+00 ...  0.000e+00  0.000e+00]\n",
      "     nit: 100\n",
      "    nfev: 3711\n",
      "    njev: 30\n",
      "    nhev: 0\n",
      "4.0\n",
      "First term (inhibitory row connections): 0.0\n",
      "First term (inhibitory column connections): 0.0\n",
      "First term (Data term): 58.0\n",
      "First term (global inhibitory connections): 640.0\n",
      "Second term (Magnetic Field term): 640.0\n",
      "Energy (with constant term): 29.0\n",
      "Constant term: 320\n",
      "If V is a valid tour then the energy with the constant term is equal to the tour length!\n",
      "BEST ENERGY VALUE (without offset): -291.0\n",
      "ACTUAL TOUR LENGTH: 29\n"
     ]
    }
   ],
   "source": [
    "print(tsp.interpret(solution.x))\n",
    "print(solution)\n",
    "print(\"BEST ENERGY VALUE (without offset):\", hopfield.compute_energy(solution.x, debug=True))\n",
    "print(\"ACTUAL TOUR LENGTH:\", tsp.get_cost(solution.x))"
   ]
  },
  {
   "cell_type": "code",
   "execution_count": null,
   "id": "ffd4600c",
   "metadata": {},
   "outputs": [],
   "source": []
  }
 ],
 "metadata": {
  "kernelspec": {
   "display_name": "Python 3 (ipykernel)",
   "language": "python",
   "name": "python3"
  },
  "language_info": {
   "codemirror_mode": {
    "name": "ipython",
    "version": 3
   },
   "file_extension": ".py",
   "mimetype": "text/x-python",
   "name": "python",
   "nbconvert_exporter": "python",
   "pygments_lexer": "ipython3",
   "version": "3.9.12"
  }
 },
 "nbformat": 4,
 "nbformat_minor": 5
}
