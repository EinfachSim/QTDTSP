{
 "cells": [
  {
   "cell_type": "code",
   "execution_count": 1,
   "id": "37e8e184",
   "metadata": {},
   "outputs": [],
   "source": [
    "import networkx as nx\n",
    "import random\n",
    "import matplotlib.pyplot as plt\n",
    "from models import TSP, CompleteGraph\n",
    "from qiskit.quantum_info.operators import SparsePauliOp, Pauli\n",
    "import numpy as np\n",
    "\n",
    "from qiskit_algorithms.utils import algorithm_globals\n",
    "from qiskit_algorithms import QAOA, NumPyMinimumEigensolver\n",
    "from qiskit_algorithms.optimizers import COBYLA\n",
    "from qiskit.primitives import Sampler\n",
    "from qiskit_optimization.algorithms import (\n",
    "    MinimumEigenOptimizer,\n",
    "    RecursiveMinimumEigenOptimizer,\n",
    "    SolutionSample,\n",
    "    OptimizationResultStatus,\n",
    ")"
   ]
  },
  {
   "cell_type": "code",
   "execution_count": 2,
   "id": "b12192aa",
   "metadata": {},
   "outputs": [
    {
     "data": {
      "image/png": "[encoded data removed]",
      "text/plain": [
       "<Figure size 432x288 with 1 Axes>"
      ]
     },
     "metadata": {},
     "output_type": "display_data"
    }
   ],
   "source": [
    "G = CompleteGraph(4)\n",
    "\n",
    "G.draw_graph()"
   ]
  },
  {
   "cell_type": "code",
   "execution_count": 3,
   "id": "b0ed2859",
   "metadata": {},
   "outputs": [
    {
     "name": "stdout",
     "output_type": "stream",
     "text": [
      "Problem name: \n",
      "\n",
      "Minimize\n",
      "  200*x0^2 + 900*x0*x1 + 400*x0*x10 + 406*x0*x11 + 900*x0*x12 + 403*x0*x13\n",
      "  + 400*x0*x14 + 403*x0*x15 + 900*x0*x2 + 900*x0*x3 + 900*x0*x4 + 407*x0*x5\n",
      "  + 400*x0*x6 + 407*x0*x7 + 900*x0*x8 + 406*x0*x9 + 200*x1^2 + 406*x1*x10\n",
      "  + 400*x1*x11 + 403*x1*x12 + 900*x1*x13 + 403*x1*x14 + 400*x1*x15 + 900*x1*x2\n",
      "  + 900*x1*x3 + 407*x1*x4 + 900*x1*x5 + 407*x1*x6 + 400*x1*x7 + 406*x1*x8\n",
      "  + 900*x1*x9 + 200*x10^2 + 900*x10*x11 + 400*x10*x12 + 406*x10*x13\n",
      "  + 900*x10*x14 + 406*x10*x15 + 200*x11^2 + 406*x11*x12 + 400*x11*x13\n",
      "  + 406*x11*x14 + 900*x11*x15 + 200*x12^2 + 900*x12*x13 + 900*x12*x14\n",
      "  + 900*x12*x15 + 200*x13^2 + 900*x13*x14 + 900*x13*x15 + 200*x14^2\n",
      "  + 900*x14*x15 + 200*x15^2 + 900*x2*x10 + 406*x2*x11 + 400*x2*x12 + 403*x2*x13\n",
      "  + 900*x2*x14 + 403*x2*x15 + 200*x2^2 + 900*x2*x3 + 400*x2*x4 + 407*x2*x5\n",
      "  + 900*x2*x6 + 407*x2*x7 + 400*x2*x8 + 406*x2*x9 + 406*x3*x10 + 900*x3*x11\n",
      "  + 403*x3*x12 + 400*x3*x13 + 403*x3*x14 + 900*x3*x15 + 200*x3^2 + 407*x3*x4\n",
      "  + 400*x3*x5 + 407*x3*x6 + 900*x3*x7 + 406*x3*x8 + 400*x3*x9 + 400*x4*x10\n",
      "  + 408*x4*x11 + 900*x4*x12 + 403*x4*x13 + 400*x4*x14 + 403*x4*x15 + 200*x4^2\n",
      "  + 900*x4*x5 + 900*x4*x6 + 900*x4*x7 + 900*x4*x8 + 408*x4*x9 + 408*x5*x10\n",
      "  + 400*x5*x11 + 403*x5*x12 + 900*x5*x13 + 403*x5*x14 + 400*x5*x15 + 200*x5^2\n",
      "  + 900*x5*x6 + 900*x5*x7 + 408*x5*x8 + 900*x5*x9 + 900*x6*x10 + 408*x6*x11\n",
      "  + 400*x6*x12 + 403*x6*x13 + 900*x6*x14 + 403*x6*x15 + 200*x6^2 + 900*x6*x7\n",
      "  + 400*x6*x8 + 408*x6*x9 + 408*x7*x10 + 900*x7*x11 + 403*x7*x12 + 400*x7*x13\n",
      "  + 403*x7*x14 + 900*x7*x15 + 200*x7^2 + 408*x7*x8 + 400*x7*x9 + 900*x8*x10\n",
      "  + 900*x8*x11 + 900*x8*x12 + 406*x8*x13 + 400*x8*x14 + 406*x8*x15 + 200*x8^2\n",
      "  + 900*x8*x9 + 900*x9*x10 + 900*x9*x11 + 406*x9*x12 + 900*x9*x13 + 406*x9*x14\n",
      "  + 400*x9*x15 + 200*x9^2 - 1600*x0 - 1600*x1 - 1600*x10 - 1600*x11 - 1600*x12\n",
      "  - 1600*x13 - 1600*x14 - 1600*x15 - 1600*x2 - 1600*x3 - 1600*x4 - 1600*x5\n",
      "  - 1600*x6 - 1600*x7 - 1600*x8 - 1600*x9 + 3200\n",
      "\n",
      "Subject to\n",
      "  No constraints\n",
      "\n",
      "  Binary variables (16)\n",
      "    x0 x1 x2 x3 x4 x5 x6 x7 x8 x9 x10 x11 x12 x13 x14 x15\n",
      "\n"
     ]
    },
    {
     "data": {
      "text/plain": [
       "<MinimumEigenOptimizationResult: fval=20.0, x0=0.0, x1=0.0, x2=1.0, x3=0.0, x4=1.0, x5=0.0, x6=0.0, x7=0.0, x8=0.0, x9=1.0, x10=0.0, x11=0.0, x12=0.0, x13=0.0, x14=0.0, x15=1.0, status=SUCCESS>"
      ]
     },
     "execution_count": 3,
     "metadata": {},
     "output_type": "execute_result"
    }
   ],
   "source": [
    "tsp = TSP(G.get_graph(), A=-500, B=-500, C=-200, D=-1)\n",
    "qubo = tsp.to_qubo()\n",
    "print(qubo.prettyprint())\n",
    "\n",
    "exact = MinimumEigenOptimizer(NumPyMinimumEigensolver())\n",
    "exact.solve(qubo)"
   ]
  },
  {
   "cell_type": "code",
   "execution_count": 4,
   "id": "901b9b6a",
   "metadata": {},
   "outputs": [
    {
     "data": {
      "text/plain": [
       "10066.0"
      ]
     },
     "execution_count": 4,
     "metadata": {},
     "output_type": "execute_result"
    }
   ],
   "source": [
    "H, offset = qubo.to_ising()\n",
    "offset"
   ]
  },
  {
   "cell_type": "code",
   "execution_count": 5,
   "id": "a0444504",
   "metadata": {},
   "outputs": [
    {
     "name": "stderr",
     "output_type": "stream",
     "text": [
      "/var/folders/kj/r4bf7thj1gg5bp153_b6nf740000gn/T/ipykernel_97110/646536195.py:2: DeprecationWarning: The class ``qiskit.primitives.sampler.Sampler`` is deprecated as of qiskit 1.2. It will be removed no earlier than 3 months after the release date. All implementations of the `BaseSamplerV1` interface have been deprecated in favor of their V2 counterparts. The V2 alternative for the `Sampler` class is `StatevectorSampler`.\n",
      "  qaoa_mes = QAOA(sampler=Sampler(), optimizer=COBYLA(), initial_point=[0.0, 0.0])\n"
     ]
    }
   ],
   "source": [
    "algorithm_globals.random_seed = 10598\n",
    "qaoa_mes = QAOA(sampler=Sampler(), optimizer=COBYLA(), initial_point=[0.0, 0.0])\n",
    "exact_mes = NumPyMinimumEigensolver()"
   ]
  },
  {
   "cell_type": "code",
   "execution_count": 6,
   "id": "80308480",
   "metadata": {},
   "outputs": [],
   "source": [
    "qaoa = MinimumEigenOptimizer(qaoa_mes)  # using QAOA\n",
    "exact = MinimumEigenOptimizer(exact_mes)  # using the exact classical numpy minimum eigen solver"
   ]
  },
  {
   "cell_type": "code",
   "execution_count": 7,
   "id": "8b5396c4",
   "metadata": {},
   "outputs": [
    {
     "name": "stdout",
     "output_type": "stream",
     "text": [
      "objective function value: 20.0\n",
      "variable values: x0=0.0, x1=0.0, x2=1.0, x3=0.0, x4=1.0, x5=0.0, x6=0.0, x7=0.0, x8=0.0, x9=1.0, x10=0.0, x11=0.0, x12=0.0, x13=0.0, x14=0.0, x15=1.0\n",
      "status: SUCCESS\n"
     ]
    },
    {
     "data": {
      "text/plain": [
       "array([1., 2., 0., 3.])"
      ]
     },
     "execution_count": 7,
     "metadata": {},
     "output_type": "execute_result"
    }
   ],
   "source": [
    "exact_result = exact.solve(qubo)\n",
    "print(exact_result.prettyprint())\n",
    "\n",
    "solution = exact_result.x\n",
    "\n",
    "tsp.interpret(solution)"
   ]
  }
 ],
 "metadata": {
  "kernelspec": {
   "display_name": "Python 3 (ipykernel)",
   "language": "python",
   "name": "python3"
  },
  "language_info": {
   "codemirror_mode": {
    "name": "ipython",
    "version": 3
   },
   "file_extension": ".py",
   "mimetype": "text/x-python",
   "name": "python",
   "nbconvert_exporter": "python",
   "pygments_lexer": "ipython3",
   "version": "3.9.12"
  }
 },
 "nbformat": 4,
 "nbformat_minor": 5
}
