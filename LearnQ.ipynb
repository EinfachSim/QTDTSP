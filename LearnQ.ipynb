{
 "cells": [
  {
   "cell_type": "code",
   "execution_count": 1,
   "id": "fd9cffaf",
   "metadata": {},
   "outputs": [],
   "source": [
    "import numpy as np"
   ]
  },
  {
   "cell_type": "code",
   "execution_count": 8,
   "id": "1e949ba0",
   "metadata": {},
   "outputs": [],
   "source": [
    "# Takes in a path in the tree and encodes it \n",
    "def encode(p):\n",
    "    #Throw away the last stop because it is already determined\n",
    "    p = sorted(p)\n",
    "    p = p[:-1]\n",
    "    for i in range(1,len(p)):\n",
    "        "
   ]
  },
  {
   "cell_type": "code",
   "execution_count": null,
   "id": "685474ff",
   "metadata": {},
   "outputs": [],
   "source": [
    "def decode(enc_p):\n",
    "    path = [0]\n",
    "    "
   ]
  }
 ],
 "metadata": {
  "kernelspec": {
   "display_name": "Python 3 (ipykernel)",
   "language": "python",
   "name": "python3"
  },
  "language_info": {
   "codemirror_mode": {
    "name": "ipython",
    "version": 3
   },
   "file_extension": ".py",
   "mimetype": "text/x-python",
   "name": "python",
   "nbconvert_exporter": "python",
   "pygments_lexer": "ipython3",
   "version": "3.9.12"
  }
 },
 "nbformat": 4,
 "nbformat_minor": 5
}
