{
 "cells": [
  {
   "cell_type": "code",
   "execution_count": 1,
   "id": "7ee5aa69",
   "metadata": {},
   "outputs": [],
   "source": [
    "import numpy as np\n",
    "import pandas as pd\n",
    "from models import TSP, HopfieldNetwork"
   ]
  },
  {
   "cell_type": "code",
   "execution_count": 2,
   "id": "0a0f39a0",
   "metadata": {},
   "outputs": [],
   "source": [
    "def read_instance(filepath):\n",
    "    with open(f\"{filepath}/optimal_tour.txt\", \"r\") as f:\n",
    "        content = f.readlines()\n",
    "        content[0] = content[0].strip()[1:-1]\n",
    "        tour = np.array([int(x) for x in content[0].split(\",\")])\n",
    "        cost = float(content[1].split(\":\")[-1].strip())\n",
    "        return (pd.read_csv(f\"{filepath}/instance.tsp\", header=None).rename(columns={0: \"x\", 1: \"y\"}), tour, cost)"
   ]
  },
  {
   "cell_type": "code",
   "execution_count": 3,
   "id": "63d993d0",
   "metadata": {},
   "outputs": [],
   "source": [
    "instance = read_instance(\"test\")"
   ]
  },
  {
   "cell_type": "code",
   "execution_count": null,
   "id": "72ead21d",
   "metadata": {},
   "outputs": [
    {
     "name": "stdout",
     "output_type": "stream",
     "text": [
      "test\n",
      "test2\n",
      "test3\n"
     ]
    }
   ],
   "source": [
    "tsp = TSP.from_instance_file(\"test/instance.tsp\")"
   ]
  },
  {
   "cell_type": "code",
   "execution_count": 4,
   "id": "dad7c664",
   "metadata": {},
   "outputs": [],
   "source": [
    "test, _, _ = read_instance(\"test\")"
   ]
  },
  {
   "cell_type": "code",
   "execution_count": 5,
   "id": "7e6ec735",
   "metadata": {},
   "outputs": [],
   "source": [
    "from scipy.spatial.distance import cdist\n",
    "\n",
    "coords = test[[\"x\", \"y\"]].to_numpy()\n",
    "\n",
    "distance_matrix = cdist(coords, coords, metric='euclidean')"
   ]
  },
  {
   "cell_type": "code",
   "execution_count": null,
   "id": "44d93de8",
   "metadata": {},
   "outputs": [],
   "source": []
  }
 ],
 "metadata": {
  "kernelspec": {
   "display_name": "Python 3 (ipykernel)",
   "language": "python",
   "name": "python3"
  },
  "language_info": {
   "codemirror_mode": {
    "name": "ipython",
    "version": 3
   },
   "file_extension": ".py",
   "mimetype": "text/x-python",
   "name": "python",
   "nbconvert_exporter": "python",
   "pygments_lexer": "ipython3",
   "version": "3.9.12"
  }
 },
 "nbformat": 4,
 "nbformat_minor": 5
}
