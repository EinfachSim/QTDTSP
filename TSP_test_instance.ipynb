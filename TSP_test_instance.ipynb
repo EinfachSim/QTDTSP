{
 "cells": [
  {
   "cell_type": "code",
   "execution_count": 48,
   "id": "7ee5aa69",
   "metadata": {},
   "outputs": [],
   "source": [
    "import numpy as np\n",
    "import pandas as pd\n",
    "from models import TSP, HopfieldNetwork"
   ]
  },
  {
   "cell_type": "code",
   "execution_count": 49,
   "id": "0a0f39a0",
   "metadata": {},
   "outputs": [],
   "source": [
    "def read_instance(filepath):\n",
    "    with open(f\"{filepath}\", \"r\") as f:\n",
    "        content = f.readlines()\n",
    "        content[0] = content[0].split(\":\")[-1].strip()[1:-1]\n",
    "        tour = np.array([int(x) for x in content[0].split(\",\")])\n",
    "        cost = float(content[1].split(\":\")[-1].strip())\n",
    "        return (tour, cost)"
   ]
  },
  {
   "cell_type": "code",
   "execution_count": 56,
   "id": "63d993d0",
   "metadata": {},
   "outputs": [
    {
     "name": "stdout",
     "output_type": "stream",
     "text": [
      "1039.77\n"
     ]
    }
   ],
   "source": [
    "instance = read_instance(\"test/tsp/instance2.sol\")\n",
    "print(instance[-1])"
   ]
  },
  {
   "cell_type": "code",
   "execution_count": 57,
   "id": "72ead21d",
   "metadata": {},
   "outputs": [],
   "source": [
    "tsp = TSP.from_instance_file(\"test/tsp/instance2.tsp\", A=50000, B=50000, C=2000, D=1)"
   ]
  },
  {
   "cell_type": "code",
   "execution_count": 58,
   "id": "44d93de8",
   "metadata": {},
   "outputs": [
    {
     "name": "stdout",
     "output_type": "stream",
     "text": [
      "Set parameter WLSAccessID\n",
      "Set parameter WLSSecret\n",
      "Set parameter LicenseID to value 2595968\n",
      "Academic license 2595968 - for non-commercial use only - registered to s0___@uni-bonn.de\n"
     ]
    },
    {
     "ename": "KeyboardInterrupt",
     "evalue": "",
     "output_type": "error",
     "traceback": [
      "\u001b[0;31m---------------------------------------------------------------------------\u001b[0m",
      "\u001b[0;31mKeyboardInterrupt\u001b[0m                         Traceback (most recent call last)",
      "Input \u001b[0;32mIn [58]\u001b[0m, in \u001b[0;36m<cell line: 4>\u001b[0;34m()\u001b[0m\n\u001b[1;32m     23\u001b[0m     \u001b[38;5;28;01mfor\u001b[39;00m j \u001b[38;5;129;01min\u001b[39;00m \u001b[38;5;28mrange\u001b[39m(n):\n\u001b[1;32m     24\u001b[0m         \u001b[38;5;28;01mif\u001b[39;00m Q[i, j] \u001b[38;5;241m!=\u001b[39m \u001b[38;5;241m0\u001b[39m:\n\u001b[0;32m---> 25\u001b[0m             objective\u001b[38;5;241m.\u001b[39madd(\u001b[38;5;241;43m-\u001b[39;49m\u001b[38;5;241;43m0.5\u001b[39;49m\u001b[38;5;241;43m*\u001b[39;49m\u001b[43mQ\u001b[49m\u001b[43m[\u001b[49m\u001b[43mi\u001b[49m\u001b[43m,\u001b[49m\u001b[43m \u001b[49m\u001b[43mj\u001b[49m\u001b[43m]\u001b[49m\u001b[43m \u001b[49m\u001b[38;5;241;43m*\u001b[39;49m\u001b[43m \u001b[49m\u001b[43mvar\u001b[49m\u001b[43m[\u001b[49m\u001b[43mi\u001b[49m\u001b[43m]\u001b[49m\u001b[43m \u001b[49m\u001b[38;5;241;43m*\u001b[39;49m\u001b[43m \u001b[49m\u001b[43mvar\u001b[49m\u001b[43m[\u001b[49m\u001b[43mj\u001b[49m\u001b[43m]\u001b[49m)\n\u001b[1;32m     27\u001b[0m \u001b[38;5;66;03m# Add linear terms from c\u001b[39;00m\n\u001b[1;32m     28\u001b[0m \u001b[38;5;28;01mfor\u001b[39;00m i \u001b[38;5;129;01min\u001b[39;00m \u001b[38;5;28mrange\u001b[39m(n):\n",
      "File \u001b[0;32msrc/gurobipy/linexpr.pxi:530\u001b[0m, in \u001b[0;36mgurobipy._core.LinExpr.__mul__\u001b[0;34m()\u001b[0m\n",
      "File \u001b[0;32msrc/gurobipy/quadexpr.pxi:38\u001b[0m, in \u001b[0;36mgurobipy._core.QuadExpr.__init__\u001b[0;34m()\u001b[0m\n",
      "File \u001b[0;32msrc/gurobipy/linexpr.pxi:42\u001b[0m, in \u001b[0;36mgurobipy._core.LinExpr.__init__\u001b[0;34m()\u001b[0m\n",
      "File \u001b[0;32m/opt/homebrew/anaconda3/lib/python3.9/abc.py:117\u001b[0m, in \u001b[0;36mABCMeta.__instancecheck__\u001b[0;34m(cls, instance)\u001b[0m\n\u001b[1;32m    111\u001b[0m \u001b[38;5;250m    \u001b[39m\u001b[38;5;124;03m\"\"\"Register a virtual subclass of an ABC.\u001b[39;00m\n\u001b[1;32m    112\u001b[0m \n\u001b[1;32m    113\u001b[0m \u001b[38;5;124;03m    Returns the subclass, to allow usage as a class decorator.\u001b[39;00m\n\u001b[1;32m    114\u001b[0m \u001b[38;5;124;03m    \"\"\"\u001b[39;00m\n\u001b[1;32m    115\u001b[0m     \u001b[38;5;28;01mreturn\u001b[39;00m _abc_register(\u001b[38;5;28mcls\u001b[39m, subclass)\n\u001b[0;32m--> 117\u001b[0m \u001b[38;5;28;01mdef\u001b[39;00m \u001b[38;5;21m__instancecheck__\u001b[39m(\u001b[38;5;28mcls\u001b[39m, instance):\n\u001b[1;32m    118\u001b[0m \u001b[38;5;250m    \u001b[39m\u001b[38;5;124;03m\"\"\"Override for isinstance(instance, cls).\"\"\"\u001b[39;00m\n\u001b[1;32m    119\u001b[0m     \u001b[38;5;28;01mreturn\u001b[39;00m _abc_instancecheck(\u001b[38;5;28mcls\u001b[39m, instance)\n",
      "\u001b[0;31mKeyboardInterrupt\u001b[0m: "
     ]
    }
   ],
   "source": [
    "import gurobipy as gp\n",
    "from gurobipy import Model, GRB, QuadExpr\n",
    "options = {}\n",
    "with gp.Env(params=options) as env, gp.Model(env=env) as model:\n",
    "    # Formulate problem\n",
    "    problem = tsp\n",
    "    # Define the interaction matrix (Q) and field vector (c)\n",
    "    Q = problem.T[-2] # Interaction matrix\n",
    "    c = problem.I # Field vector\n",
    "    \n",
    "    # Create a new Gurobi model\n",
    "    model = Model(\"Qua\")\n",
    "    \n",
    "    # Add binary variables\n",
    "    n = Q.shape[0]\n",
    "    var = [model.addVar(vtype=GRB.BINARY, name=f\"x{i}\") for i in range(n)]\n",
    "    \n",
    "    # Set up the quadratic objective\n",
    "    objective = QuadExpr()\n",
    "    \n",
    "    # Add quadratic terms from Q\n",
    "    for i in range(n):\n",
    "        for j in range(n):\n",
    "            if Q[i, j] != 0:\n",
    "                objective.add(-0.5*Q[i, j] * var[i] * var[j])\n",
    "    \n",
    "    # Add linear terms from c\n",
    "    for i in range(n):\n",
    "        if c[i] != 0:\n",
    "            objective.add(-c[i] * var[i])\n",
    "    \n",
    "            \n",
    "    objective.addConstant(problem.offset)\n",
    "    \n",
    "    # Set the objective\n",
    "    model.setObjective(objective, GRB.MINIMIZE)\n",
    "    model.setParam(\"MIPFocus\", 1)\n",
    "    \n",
    "    # Optimize the model\n",
    "    model.optimize()\n",
    "    \n",
    "    \n",
    "    gurobi_solution = []\n",
    "    # Display results\n",
    "    if model.status == GRB.OPTIMAL:\n",
    "        print(\"Optimal value:\", model.objVal)\n",
    "        for v in var:\n",
    "            print(f\"{v.varName} = {v.x}\")\n",
    "            gurobi_solution.append(v.x)\n",
    "    else:\n",
    "        print(\"No optimal solution found.\")\n",
    "        for v in var:\n",
    "            print(f\"{v.varName} = {v.x}\")\n",
    "            gurobi_solution.append(v.x)"
   ]
  },
  {
   "cell_type": "code",
   "execution_count": 53,
   "id": "af3c0a51",
   "metadata": {},
   "outputs": [
    {
     "name": "stdout",
     "output_type": "stream",
     "text": [
      "25\n",
      "[23.  4. 11. 22.  5.  8. 21.  1. 10. 20. 17.  7.  2.  6. 15. 24. 14. 19.\n",
      " 16.  0. 13. 12. 18.  9.  3.]\n",
      "1074.9129252846774\n",
      "[ 0.  1.  2.  3.  4.  5.  6.  7.  8.  9. 10. 11. 12. 13. 14. 15. 16. 17.\n",
      " 18. 19. 20. 21. 22. 23. 24.]\n",
      "True\n",
      "[[0. 0. 0. 0. 0. 0. 0. 0. 0. 0. 0. 0. 0. 0. 0. 0. 0. 0. 0. 1. 0. 0. 0. 0.\n",
      "  0.]\n",
      " [0. 0. 0. 0. 0. 0. 0. 1. 0. 0. 0. 0. 0. 0. 0. 0. 0. 0. 0. 0. 0. 0. 0. 0.\n",
      "  0.]\n",
      " [0. 0. 0. 0. 0. 0. 0. 0. 0. 0. 0. 0. 1. 0. 0. 0. 0. 0. 0. 0. 0. 0. 0. 0.\n",
      "  0.]\n",
      " [0. 0. 0. 0. 0. 0. 0. 0. 0. 0. 0. 0. 0. 0. 0. 0. 0. 0. 0. 0. 0. 0. 0. 0.\n",
      "  1.]\n",
      " [0. 1. 0. 0. 0. 0. 0. 0. 0. 0. 0. 0. 0. 0. 0. 0. 0. 0. 0. 0. 0. 0. 0. 0.\n",
      "  0.]\n",
      " [0. 0. 0. 0. 1. 0. 0. 0. 0. 0. 0. 0. 0. 0. 0. 0. 0. 0. 0. 0. 0. 0. 0. 0.\n",
      "  0.]\n",
      " [0. 0. 0. 0. 0. 0. 0. 0. 0. 0. 0. 0. 0. 1. 0. 0. 0. 0. 0. 0. 0. 0. 0. 0.\n",
      "  0.]\n",
      " [0. 0. 0. 0. 0. 0. 0. 0. 0. 0. 0. 1. 0. 0. 0. 0. 0. 0. 0. 0. 0. 0. 0. 0.\n",
      "  0.]\n",
      " [0. 0. 0. 0. 0. 1. 0. 0. 0. 0. 0. 0. 0. 0. 0. 0. 0. 0. 0. 0. 0. 0. 0. 0.\n",
      "  0.]\n",
      " [0. 0. 0. 0. 0. 0. 0. 0. 0. 0. 0. 0. 0. 0. 0. 0. 0. 0. 0. 0. 0. 0. 0. 1.\n",
      "  0.]\n",
      " [0. 0. 0. 0. 0. 0. 0. 0. 1. 0. 0. 0. 0. 0. 0. 0. 0. 0. 0. 0. 0. 0. 0. 0.\n",
      "  0.]\n",
      " [0. 0. 1. 0. 0. 0. 0. 0. 0. 0. 0. 0. 0. 0. 0. 0. 0. 0. 0. 0. 0. 0. 0. 0.\n",
      "  0.]\n",
      " [0. 0. 0. 0. 0. 0. 0. 0. 0. 0. 0. 0. 0. 0. 0. 0. 0. 0. 0. 0. 0. 1. 0. 0.\n",
      "  0.]\n",
      " [0. 0. 0. 0. 0. 0. 0. 0. 0. 0. 0. 0. 0. 0. 0. 0. 0. 0. 0. 0. 1. 0. 0. 0.\n",
      "  0.]\n",
      " [0. 0. 0. 0. 0. 0. 0. 0. 0. 0. 0. 0. 0. 0. 0. 0. 1. 0. 0. 0. 0. 0. 0. 0.\n",
      "  0.]\n",
      " [0. 0. 0. 0. 0. 0. 0. 0. 0. 0. 0. 0. 0. 0. 1. 0. 0. 0. 0. 0. 0. 0. 0. 0.\n",
      "  0.]\n",
      " [0. 0. 0. 0. 0. 0. 0. 0. 0. 0. 0. 0. 0. 0. 0. 0. 0. 0. 1. 0. 0. 0. 0. 0.\n",
      "  0.]\n",
      " [0. 0. 0. 0. 0. 0. 0. 0. 0. 0. 1. 0. 0. 0. 0. 0. 0. 0. 0. 0. 0. 0. 0. 0.\n",
      "  0.]\n",
      " [0. 0. 0. 0. 0. 0. 0. 0. 0. 0. 0. 0. 0. 0. 0. 0. 0. 0. 0. 0. 0. 0. 1. 0.\n",
      "  0.]\n",
      " [0. 0. 0. 0. 0. 0. 0. 0. 0. 0. 0. 0. 0. 0. 0. 0. 0. 1. 0. 0. 0. 0. 0. 0.\n",
      "  0.]\n",
      " [0. 0. 0. 0. 0. 0. 0. 0. 0. 1. 0. 0. 0. 0. 0. 0. 0. 0. 0. 0. 0. 0. 0. 0.\n",
      "  0.]\n",
      " [0. 0. 0. 0. 0. 0. 1. 0. 0. 0. 0. 0. 0. 0. 0. 0. 0. 0. 0. 0. 0. 0. 0. 0.\n",
      "  0.]\n",
      " [0. 0. 0. 1. 0. 0. 0. 0. 0. 0. 0. 0. 0. 0. 0. 0. 0. 0. 0. 0. 0. 0. 0. 0.\n",
      "  0.]\n",
      " [1. 0. 0. 0. 0. 0. 0. 0. 0. 0. 0. 0. 0. 0. 0. 0. 0. 0. 0. 0. 0. 0. 0. 0.\n",
      "  0.]\n",
      " [0. 0. 0. 0. 0. 0. 0. 0. 0. 0. 0. 0. 0. 0. 0. 1. 0. 0. 0. 0. 0. 0. 0. 0.\n",
      "  0.]]\n",
      "First term (inhibitory row connections): 0.0\n",
      "First term (inhibitory column connections): 0.0\n",
      "First term (Data term): 2149.825850569355\n",
      "First term (global inhibitory connections): 2500000.0\n",
      "Second term (Magnetic Field term): 2500000.0\n",
      "Energy (with constant term): 1074.9129252848215\n",
      "Constant term: 1250000\n",
      "If V is a valid tour then the energy with the constant term is equal to the tour length!\n",
      "-1248925.0870747152\n"
     ]
    }
   ],
   "source": [
    "from models import HopfieldNetwork\n",
    "hopfield = HopfieldNetwork(tsp.T, tsp.I, tsp.offset)\n",
    "\n",
    "print(len(tsp.interpret(np.array(gurobi_solution))))\n",
    "tsp_sol = tsp.interpret(np.array(gurobi_solution))\n",
    "print(tsp.interpret(np.array(gurobi_solution)))\n",
    "print(tsp.get_cost(np.array(gurobi_solution)))\n",
    "def is_legal(arr):\n",
    "    print(np.unique(arr))\n",
    "    return len(np.unique(arr)) == len(arr)\n",
    "\n",
    "print(is_legal(tsp_sol))\n",
    "print(np.array(gurobi_solution).reshape((tsp.n, tsp.n)))\n",
    "print(hopfield.compute_energy(np.array(gurobi_solution), debug=True))"
   ]
  },
  {
   "cell_type": "code",
   "execution_count": null,
   "id": "a30be4a8",
   "metadata": {},
   "outputs": [],
   "source": []
  }
 ],
 "metadata": {
  "kernelspec": {
   "display_name": "Python 3 (ipykernel)",
   "language": "python",
   "name": "python3"
  },
  "language_info": {
   "codemirror_mode": {
    "name": "ipython",
    "version": 3
   },
   "file_extension": ".py",
   "mimetype": "text/x-python",
   "name": "python",
   "nbconvert_exporter": "python",
   "pygments_lexer": "ipython3",
   "version": "3.9.12"
  }
 },
 "nbformat": 4,
 "nbformat_minor": 5
}
