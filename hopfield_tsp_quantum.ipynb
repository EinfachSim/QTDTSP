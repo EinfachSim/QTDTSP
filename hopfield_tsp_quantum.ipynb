{
 "cells": [
  {
   "cell_type": "code",
   "execution_count": 1,
   "id": "37e8e184",
   "metadata": {},
   "outputs": [],
   "source": [
    "from models import TSP, CompleteGraph\n",
    "import numpy as np\n",
    "from qiskit_algorithms.utils import algorithm_globals\n",
    "from qiskit_algorithms import NumPyMinimumEigensolver\n",
    "from qiskit_optimization.algorithms import MinimumEigenOptimizer"
   ]
  },
  {
   "cell_type": "code",
   "execution_count": 2,
   "id": "b12192aa",
   "metadata": {},
   "outputs": [
    {
     "data": {
      "image/png": "[encoded data removed]",
      "text/plain": [
       "<Figure size 432x288 with 1 Axes>"
      ]
     },
     "metadata": {},
     "output_type": "display_data"
    }
   ],
   "source": [
    "# Get graph\n",
    "G = CompleteGraph(3)\n",
    "G.draw_graph()"
   ]
  },
  {
   "cell_type": "code",
   "execution_count": 3,
   "id": "b0ed2859",
   "metadata": {},
   "outputs": [
    {
     "name": "stdout",
     "output_type": "stream",
     "text": [
      "[[ 0.  0.  0.  0. 10. 10.  0.  1.  1.]\n",
      " [ 0.  0.  0. 10.  0. 10.  1.  0.  1.]\n",
      " [ 0.  0.  0. 10. 10.  0.  1.  1.  0.]\n",
      " [ 0. 10. 10.  0.  0.  0.  0.  3.  3.]\n",
      " [10.  0. 10.  0.  0.  0.  3.  0.  3.]\n",
      " [10. 10.  0.  0.  0.  0.  3.  3.  0.]\n",
      " [ 0.  1.  1.  0.  3.  3.  0.  0.  0.]\n",
      " [ 1.  0.  1.  3.  0.  3.  0.  0.  0.]\n",
      " [ 1.  1.  0.  3.  3.  0.  0.  0.  0.]]\n",
      "Problem name: \n",
      "\n",
      "Minimize\n",
      "  200*x0^2 + 900*x0*x1 + 900*x0*x2 + 900*x0*x3 + 410*x0*x4 + 410*x0*x5\n",
      "  + 900*x0*x6 + 401*x0*x7 + 401*x0*x8 + 200*x1^2 + 900*x1*x2 + 410*x1*x3\n",
      "  + 900*x1*x4 + 410*x1*x5 + 401*x1*x6 + 900*x1*x7 + 401*x1*x8 + 200*x2^2\n",
      "  + 410*x2*x3 + 410*x2*x4 + 900*x2*x5 + 401*x2*x6 + 401*x2*x7 + 900*x2*x8\n",
      "  + 200*x3^2 + 900*x3*x4 + 900*x3*x5 + 900*x3*x6 + 403*x3*x7 + 403*x3*x8\n",
      "  + 200*x4^2 + 900*x4*x5 + 403*x4*x6 + 900*x4*x7 + 403*x4*x8 + 200*x5^2\n",
      "  + 403*x5*x6 + 403*x5*x7 + 900*x5*x8 + 200*x6^2 + 900*x6*x7 + 900*x6*x8\n",
      "  + 200*x7^2 + 900*x7*x8 + 200*x8^2 - 1200*x0 - 1200*x1 - 1200*x2 - 1200*x3\n",
      "  - 1200*x4 - 1200*x5 - 1200*x6 - 1200*x7 - 1200*x8 + 1800\n",
      "\n",
      "Subject to\n",
      "  No constraints\n",
      "\n",
      "  Binary variables (9)\n",
      "    x0 x1 x2 x3 x4 x5 x6 x7 x8\n",
      "\n",
      "fval=14.0, x0=0.0, x1=1.0, x2=0.0, x3=0.0, x4=0.0, x5=1.0, x6=1.0, x7=0.0, x8=0.0, status=SUCCESS\n",
      "[2. 0. 1.]\n"
     ]
    }
   ],
   "source": [
    "#Encode TSP with Hopfield-T-Matrix as qubo and solve exactly for comparison\n",
    "tsp = TSP(G.get_graph(), A=-500, B=-500, C=-200, D=-1)\n",
    "print(tsp.T[2])\n",
    "qubo = tsp.to_qubo()\n",
    "print(qubo.prettyprint())\n",
    "\n",
    "exact = MinimumEigenOptimizer(NumPyMinimumEigensolver())\n",
    "sol = exact.solve(qubo)\n",
    "print(sol)\n",
    "print(tsp.interpret(sol.x))"
   ]
  },
  {
   "cell_type": "code",
   "execution_count": 4,
   "id": "901b9b6a",
   "metadata": {},
   "outputs": [],
   "source": [
    "# Encode Qubo formulation into Ising Model Hamiltonian\n",
    "H, offset = qubo.to_ising()"
   ]
  },
  {
   "cell_type": "code",
   "execution_count": 5,
   "id": "a0444504",
   "metadata": {},
   "outputs": [],
   "source": [
    "# Solve on Ising model using NumPyMinimumEigensolver\n",
    "algorithm_globals.random_seed = 10598\n",
    "exact_mes = NumPyMinimumEigensolver()"
   ]
  },
  {
   "cell_type": "code",
   "execution_count": 6,
   "id": "80308480",
   "metadata": {},
   "outputs": [],
   "source": [
    "exact = MinimumEigenOptimizer(exact_mes)  # using the exact classical numpy minimum eigen solver"
   ]
  },
  {
   "cell_type": "code",
   "execution_count": 7,
   "id": "8b5396c4",
   "metadata": {},
   "outputs": [
    {
     "name": "stdout",
     "output_type": "stream",
     "text": [
      "objective function value: 14.0\n",
      "variable values: x0=0.0, x1=1.0, x2=0.0, x3=0.0, x4=0.0, x5=1.0, x6=1.0, x7=0.0, x8=0.0\n",
      "status: SUCCESS\n"
     ]
    },
    {
     "data": {
      "text/plain": [
       "array([2., 0., 1.])"
      ]
     },
     "execution_count": 7,
     "metadata": {},
     "output_type": "execute_result"
    }
   ],
   "source": [
    "exact_result = exact.solve(qubo)\n",
    "print(exact_result.prettyprint())\n",
    "\n",
    "solution = exact_result.x\n",
    "\n",
    "tsp.interpret(solution)"
   ]
  },
  {
   "cell_type": "code",
   "execution_count": null,
   "id": "d505d413",
   "metadata": {},
   "outputs": [],
   "source": []
  }
 ],
 "metadata": {
  "kernelspec": {
   "display_name": "Python 3 (ipykernel)",
   "language": "python",
   "name": "python3"
  },
  "language_info": {
   "codemirror_mode": {
    "name": "ipython",
    "version": 3
   },
   "file_extension": ".py",
   "mimetype": "text/x-python",
   "name": "python",
   "nbconvert_exporter": "python",
   "pygments_lexer": "ipython3",
   "version": "3.9.12"
  }
 },
 "nbformat": 4,
 "nbformat_minor": 5
}
